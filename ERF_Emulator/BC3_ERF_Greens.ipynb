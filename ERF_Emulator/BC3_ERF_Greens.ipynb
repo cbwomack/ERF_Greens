{
 "cells": [
  {
   "cell_type": "code",
   "execution_count": 45,
   "metadata": {},
   "outputs": [],
   "source": [
    "import xarray as xr\n",
    "import numpy as np\n",
    "import matplotlib.pyplot as plt\n",
    "from ERFutils import path_to_ERF_outputs as output_path\n",
    "from ERFutils import A\n",
    "from scipy.signal import convolve"
   ]
  },
  {
   "cell_type": "code",
   "execution_count": 53,
   "metadata": {},
   "outputs": [],
   "source": [
    "def convert_and_round(lat, lon, lat_values, lon_values):\n",
    "    # Convert longitude from [-180, 180] to [0, 360]\n",
    "    if lon < 0:\n",
    "        lon += 360\n",
    "\n",
    "    # Round latitude and longitude to nearest available values\n",
    "    nearest_lat = lat_values[np.abs(lat_values - lat).argmin()]\n",
    "    nearest_lon = lon_values[np.abs(lon_values - lon).argmin()]\n",
    "\n",
    "    return nearest_lat, nearest_lon"
   ]
  },
  {
   "cell_type": "code",
   "execution_count": 52,
   "metadata": {},
   "outputs": [],
   "source": [
    "# Import ERF datasets\n",
    "path_to_hist = 'Streamlit/ERF_hist_En-ROADS.nc4'\n",
    "ERF_hist_ds = xr.open_dataset(path_to_hist)\n",
    "ERF_hist = ERF_hist_ds.ERF.values\n",
    "ERF_enROADS = np.zeros(110) # Placeholder, replace with actual En-ROADS data\n",
    "ERF_all = np.concatenate((ERF_hist, ERF_enROADS))\n",
    "\n",
    "# Import Green's Functions\n",
    "G_ds_path = f'{output_path}GFs/G_1pctCO2_mean_ds.nc4'\n",
    "G_ds = xr.open_dataset(G_ds_path)['G[tas]']\n",
    "G_ds.name = 'G[tas]'\n",
    "G_ds = G_ds.rename({'year':'s'})\n",
    "\n",
    "# Get range of available lat, lon values (grid has 1 degree\n",
    "# spacing from [-89.5, 89.5], [0, 359])\n",
    "lat_values = G_ds.lat.values\n",
    "lon_values = G_ds.lon.values\n",
    "\n",
    "conv_mean = False # placeholder\n",
    "conv_local = True # placeholder\n",
    "lat = 41.76 # placeholder\n",
    "lon = -56.21 # placeholder\n",
    "lat, lon = convert_and_round(lat, lon, lat_values, lon_values)\n",
    "\n",
    "if conv_mean:\n",
    "  G_ds = G_ds.weighted(A).mean(dim = ['lat','lon'])\n",
    "\n",
    "if not conv_mean and conv_local: # placeholder\n",
    "  G_ds = G_ds.sel(lat = lat, lon = lon)\n",
    "\n",
    "GF = G_ds\n",
    "\n",
    "length = max(len(GF.dropna(dim = 's')['s']), len(ERF_all))\n",
    "if conv_mean or conv_local:\n",
    "  tas_conv = convolve(np.array(GF.dropna(dim = 's')), ERF_all, 'full')[:length]\n",
    "\n",
    "else:\n",
    "  tas_conv = convolve(np.array(GF.dropna(dim = 's')), ERF_all[~np.isnan(ERF_all)][..., None, None], 'full')\n",
    "  tas_conv_Glenn = {'lat' : GF.lat.values,\n",
    "                    'lon' : GF.lon.values,\n",
    "                    'v' : tas_conv}"
   ]
  },
  {
   "cell_type": "code",
   "execution_count": null,
   "metadata": {},
   "outputs": [],
   "source": []
  }
 ],
 "metadata": {
  "interpreter": {
   "hash": "715d726636e7a1d1bf7cb3b41aa062e13e384a23b67cc1ed6fea1546dd61fe44"
  },
  "kernelspec": {
   "display_name": "Python 3.12.3 ('research')",
   "language": "python",
   "name": "python3"
  },
  "language_info": {
   "codemirror_mode": {
    "name": "ipython",
    "version": 3
   },
   "file_extension": ".py",
   "mimetype": "text/x-python",
   "name": "python",
   "nbconvert_exporter": "python",
   "pygments_lexer": "ipython3",
   "version": "3.12.3"
  },
  "orig_nbformat": 4
 },
 "nbformat": 4,
 "nbformat_minor": 2
}
