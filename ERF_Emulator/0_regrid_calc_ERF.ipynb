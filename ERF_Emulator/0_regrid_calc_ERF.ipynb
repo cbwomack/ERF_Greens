{
 "cells": [
  {
   "cell_type": "code",
   "execution_count": 1,
   "id": "e95e9eb4-518e-4cc7-a347-a50a05250b64",
   "metadata": {
    "tags": []
   },
   "outputs": [],
   "source": [
    "%load_ext autoreload\n",
    "%autoreload 2\n",
    "import ERFutils\n",
    "import xarray as xr"
   ]
  },
  {
   "cell_type": "markdown",
   "id": "ce090ebc-90ab-41c4-88be-bdf4567ce3a4",
   "metadata": {},
   "source": [
    "# Load and regrid ERF and tas datasets from raw netcdf files\n",
    "Assumes all required data is downloaded correctly and accessible. Note that ERF is a globally averaged quantity while tas is spatially explicit.\n",
    "\n",
    "## Define models and experiments of interest"
   ]
  },
  {
   "cell_type": "code",
   "execution_count": 17,
   "id": "74c00124-4f55-4331-bf58-aed487d41ac9",
   "metadata": {
    "tags": []
   },
   "outputs": [],
   "source": [
    "# Import necessary structures from ERFutils\n",
    "A = ERFutils.A\n",
    "output_path = ERFutils.path_to_ERF_outputs\n",
    "\n",
    "# Select experiments and models of interest\n",
    "models = ERFutils.model_test_set # Currently set to validate code works, change to model_set for full use\n",
    "experiments = ['1pctCO2']#,'historical','ssp126','ssp245','ssp370','ssp585']"
   ]
  },
  {
   "cell_type": "markdown",
   "id": "60b83755-4403-47ec-9a34-e4060a9210f0",
   "metadata": {},
   "source": [
    "## Calculate ERF and regrid"
   ]
  },
  {
   "cell_type": "code",
   "execution_count": 37,
   "id": "409a1422-8bee-4164-95c4-df5650c26c1b",
   "metadata": {
    "tags": []
   },
   "outputs": [
    {
     "name": "stdout",
     "output_type": "stream",
     "text": [
      "\t Loading ACCESS-ESM1-5 data...\n"
     ]
    },
    {
     "name": "stderr",
     "output_type": "stream",
     "text": [
      "/home/cwomack/.conda/envs/gchp/lib/python3.9/site-packages/xesmf/frontend.py:696: UserWarning: Using dimensions ('lat', 'lon') from data variable ERF as the horizontal dimensions for the regridding.\n",
      "  warnings.warn(\n"
     ]
    },
    {
     "name": "stdout",
     "output_type": "stream",
     "text": [
      "\t Loading MIROC6 data...\n"
     ]
    },
    {
     "name": "stderr",
     "output_type": "stream",
     "text": [
      "/home/cwomack/.conda/envs/gchp/lib/python3.9/site-packages/xesmf/frontend.py:696: UserWarning: Using dimensions ('lat', 'lon') from data variable ERF as the horizontal dimensions for the regridding.\n",
      "  warnings.warn(\n"
     ]
    },
    {
     "name": "stdout",
     "output_type": "stream",
     "text": [
      "\t Loading CAMS-CSM1-0 data...\n"
     ]
    },
    {
     "name": "stderr",
     "output_type": "stream",
     "text": [
      "/home/cwomack/.conda/envs/gchp/lib/python3.9/site-packages/xesmf/frontend.py:696: UserWarning: Using dimensions ('lat', 'lon') from data variable ERF as the horizontal dimensions for the regridding.\n",
      "  warnings.warn(\n"
     ]
    }
   ],
   "source": [
    "# Flag to save ERF dataset\n",
    "save_ERF = False\n",
    "\n",
    "# Load and regrid ERF\n",
    "for exp in experiments:\n",
    "    ERF = ERFutils.load_regrid_ERF_set(models, exp)\n",
    "    ERF = ERF.weighted(A).mean(dim = ['lat','lon'])\n",
    "    \n",
    "    # Save dataset\n",
    "    if save_ERF:\n",
    "        ERF.to_netcdf(f'{output_path}ERF/ERF_{exp}_ds.nc4')"
   ]
  },
  {
   "cell_type": "markdown",
   "id": "e211eac4-f154-4e6d-b99b-c0245292278e",
   "metadata": {},
   "source": [
    "## Load tas and regrid"
   ]
  },
  {
   "cell_type": "code",
   "execution_count": 102,
   "id": "c5cee67b-fa4a-4fb0-98b7-ec91077685d6",
   "metadata": {
    "tags": []
   },
   "outputs": [
    {
     "name": "stdout",
     "output_type": "stream",
     "text": [
      "\t Loading MIROC6 data...\n"
     ]
    },
    {
     "name": "stderr",
     "output_type": "stream",
     "text": [
      "/home/cwomack/.conda/envs/gchp/lib/python3.9/site-packages/xesmf/frontend.py:696: UserWarning: Using dimensions ('lat', 'lon') from data variable tas as the horizontal dimensions for the regridding.\n",
      "  warnings.warn(\n"
     ]
    },
    {
     "name": "stdout",
     "output_type": "stream",
     "text": [
      "\t Loading CAMS-CSM1-0 data...\n"
     ]
    },
    {
     "name": "stderr",
     "output_type": "stream",
     "text": [
      "/home/cwomack/.conda/envs/gchp/lib/python3.9/site-packages/xesmf/frontend.py:696: UserWarning: Using dimensions ('lat', 'lon') from data variable tas as the horizontal dimensions for the regridding.\n",
      "  warnings.warn(\n"
     ]
    },
    {
     "name": "stdout",
     "output_type": "stream",
     "text": [
      "\t Loading ACCESS-ESM1-5 data...\n"
     ]
    },
    {
     "name": "stderr",
     "output_type": "stream",
     "text": [
      "/home/cwomack/.conda/envs/gchp/lib/python3.9/site-packages/xesmf/frontend.py:696: UserWarning: Using dimensions ('lat', 'lon') from data variable tas as the horizontal dimensions for the regridding.\n",
      "  warnings.warn(\n"
     ]
    },
    {
     "name": "stdout",
     "output_type": "stream",
     "text": [
      "\t Loading MIROC6 data...\n"
     ]
    },
    {
     "name": "stderr",
     "output_type": "stream",
     "text": [
      "/home/cwomack/.conda/envs/gchp/lib/python3.9/site-packages/xesmf/frontend.py:696: UserWarning: Using dimensions ('lat', 'lon') from data variable tas as the horizontal dimensions for the regridding.\n",
      "  warnings.warn(\n"
     ]
    },
    {
     "name": "stdout",
     "output_type": "stream",
     "text": [
      "\t Loading CAMS-CSM1-0 data...\n"
     ]
    },
    {
     "name": "stderr",
     "output_type": "stream",
     "text": [
      "/home/cwomack/.conda/envs/gchp/lib/python3.9/site-packages/xesmf/frontend.py:696: UserWarning: Using dimensions ('lat', 'lon') from data variable tas as the horizontal dimensions for the regridding.\n",
      "  warnings.warn(\n"
     ]
    },
    {
     "name": "stdout",
     "output_type": "stream",
     "text": [
      "\t Loading ACCESS-ESM1-5 data...\n"
     ]
    },
    {
     "name": "stderr",
     "output_type": "stream",
     "text": [
      "/home/cwomack/.conda/envs/gchp/lib/python3.9/site-packages/xesmf/frontend.py:696: UserWarning: Using dimensions ('lat', 'lon') from data variable tas as the horizontal dimensions for the regridding.\n",
      "  warnings.warn(\n"
     ]
    }
   ],
   "source": [
    "# Flag to save tas dataset\n",
    "save_tas = False\n",
    "\n",
    "# Check if we need historical tas profile, if so, load only once\n",
    "if any('ssp' in exp for exp in experiments):\n",
    "    tas_hist = ERFutils.load_regrid_tas_set(models, 'historical')\n",
    "    len_hist = len(tas_hist.s)\n",
    "\n",
    "# Load and regrid tas\n",
    "for exp in experiments:   \n",
    "    # If importing data for the SSPs, combine with historical tas profile\n",
    "    if 'ssp' in exp:\n",
    "        tas_ssp = ERFutils.load_regrid_tas_set(models, exp)\n",
    "        len_ssp = len(tas_ssp.s)\n",
    "        \n",
    "        # Concatenate ssp and historical dataset\n",
    "        tas_ssp = tas_ssp.assign_coords({'s':[int(i) for i in range(len_hist,len_hist + len_ssp)]})\n",
    "        tas_ds = xr.concat([tas_hist,tas_ssp],dim = 's')\n",
    "    else:\n",
    "        tas_ds = ERFutils.load_regrid_tas_set(models, exp)\n",
    "\n",
    "    # Save dataset\n",
    "    if save_tas:\n",
    "        tas_ds.to_netcdf(f'{output_path}tas/tas_{exp}_ds.nc4')"
   ]
  },
  {
   "cell_type": "code",
   "execution_count": null,
   "id": "ac6d29f3-6aef-4269-acfe-1ac223c908fb",
   "metadata": {},
   "outputs": [],
   "source": []
  }
 ],
 "metadata": {
  "kernelspec": {
   "display_name": "gchp",
   "language": "python",
   "name": "gchp"
  },
  "language_info": {
   "codemirror_mode": {
    "name": "ipython",
    "version": 3
   },
   "file_extension": ".py",
   "mimetype": "text/x-python",
   "name": "python",
   "nbconvert_exporter": "python",
   "pygments_lexer": "ipython3",
   "version": "3.9.18"
  }
 },
 "nbformat": 4,
 "nbformat_minor": 5
}
