{
 "cells": [
  {
   "cell_type": "code",
   "execution_count": 1,
   "id": "f0b62c18-5ebd-4521-ac4f-f04f2707f5de",
   "metadata": {
    "tags": []
   },
   "outputs": [],
   "source": [
    "%matplotlib inline\n",
    "\n",
    "%matplotlib inline\n",
    "%load_ext autoreload\n",
    "%autoreload 2\n",
    "\n",
    "import xarray as xr\n",
    "import pandas as pd\n",
    "import matplotlib.pyplot as plt\n",
    "import numpy as np\n",
    "import cftime\n",
    "import dask\n",
    "import xarrayutils\n",
    "import cartopy.crs as ccrs\n",
    "from xmip.preprocessing import combined_preprocessing\n",
    "from xmip.preprocessing import replace_x_y_nominal_lat_lon\n",
    "from xmip.drift_removal import replace_time\n",
    "from xmip.postprocessing import concat_experiments\n",
    "import xmip.drift_removal as xm_dr\n",
    "import xmip as xm\n",
    "import xesmf as xe\n",
    "import datetime\n",
    "from dateutil.relativedelta import relativedelta\n",
    "import ERFutils\n",
    "import scipy.signal as signal\n",
    "import cf_xarray as cfxr\n",
    "from datetime import timedelta\n",
    "import os\n",
    "#dask.config.set(**{'array.slicing.split_large_chunks': True})"
   ]
  },
  {
   "cell_type": "code",
   "execution_count": 2,
   "id": "4831993c-8feb-4a2f-a67e-f2c6da66c635",
   "metadata": {
    "tags": []
   },
   "outputs": [
    {
     "name": "stdout",
     "output_type": "stream",
     "text": [
      "Checking piControl, ACCESS-ESM1-5, rsut...\n",
      "Checking piControl, ACCESS-ESM1-5, rsdt...\n",
      "Checking piControl, ACCESS-ESM1-5, rlut...\n",
      "Checking piControl, ACCESS-ESM1-5, tas...\n",
      "Checking piControl, MIROC6, rsut...\n",
      "Checking piControl, MIROC6, rsdt...\n",
      "Checking piControl, MIROC6, rlut...\n",
      "Checking piControl, MIROC6, tas...\n",
      "Checking piControl, INM-CM4-8, rsut...\n",
      "Checking piControl, INM-CM4-8, rsdt...\n",
      "Checking piControl, INM-CM4-8, rlut...\n",
      "Checking piControl, INM-CM4-8, tas...\n",
      "Checking piControl, MRI-ESM2-0, rsut...\n",
      "Checking piControl, MRI-ESM2-0, rsdt...\n",
      "Checking piControl, MRI-ESM2-0, rlut...\n",
      "Checking piControl, MRI-ESM2-0, tas...\n",
      "Checking piControl, CAMS-CSM1-0, rsut...\n",
      "Checking piControl, CAMS-CSM1-0, rsdt...\n",
      "Checking piControl, CAMS-CSM1-0, rlut...\n",
      "Checking piControl, CAMS-CSM1-0, tas...\n",
      "Checking piControl, ACCESS-CM2, rsut...\n",
      "Checking piControl, ACCESS-CM2, rsdt...\n",
      "Checking piControl, ACCESS-CM2, rlut...\n",
      "Checking piControl, ACCESS-CM2, tas...\n",
      "Checking piControl, CanESM5, rsut...\n",
      "Checking piControl, CanESM5, rsdt...\n",
      "Checking piControl, CanESM5, rlut...\n",
      "Checking piControl, CanESM5, tas...\n",
      "Checking piControl, NorESM2-LM, rsut...\n",
      "Checking piControl, NorESM2-LM, rsdt...\n",
      "Checking piControl, NorESM2-LM, rlut...\n",
      "Checking piControl, NorESM2-LM, tas...\n",
      "Checking piControl, INM-CM5-0, rsut...\n",
      "Checking piControl, INM-CM5-0, rsdt...\n",
      "Checking piControl, INM-CM5-0, rlut...\n",
      "Checking piControl, INM-CM5-0, tas...\n"
     ]
    }
   ],
   "source": [
    "train_id = ['piControl']#,'1pctCO2','ssp126','ssp245','ssp370','ssp585','historical']\n",
    "vars1 = ['rsut','rsdt','rlut','tas']\n",
    "mcount = 0\n",
    "for train in train_id:\n",
    "    for m in ERFutils.model_set:\n",
    "        for var in vars1:\n",
    "            ERFutils.mf_to_sf(train, m, var)\n",
    "        mcount += 1\n",
    "        if mcount == 9:\n",
    "            break"
   ]
  },
  {
   "cell_type": "code",
   "execution_count": 3,
   "id": "f6349d91-723a-4e01-95a7-b4c2c1910e17",
   "metadata": {
    "tags": []
   },
   "outputs": [
    {
     "name": "stdout",
     "output_type": "stream",
     "text": [
      "Getting climatology for MIROC6\n"
     ]
    },
    {
     "ename": "KeyboardInterrupt",
     "evalue": "",
     "output_type": "error",
     "traceback": [
      "\u001b[0;31m---------------------------------------------------------------------------\u001b[0m",
      "\u001b[0;31mKeyboardInterrupt\u001b[0m                         Traceback (most recent call last)",
      "Cell \u001b[0;32mIn[3], line 6\u001b[0m\n\u001b[1;32m      4\u001b[0m \u001b[38;5;28;01mfor\u001b[39;00m m \u001b[38;5;129;01min\u001b[39;00m model_set:\n\u001b[1;32m      5\u001b[0m     \u001b[38;5;28mprint\u001b[39m(\u001b[38;5;124mf\u001b[39m\u001b[38;5;124m'\u001b[39m\u001b[38;5;124mGetting climatology for \u001b[39m\u001b[38;5;132;01m{\u001b[39;00mm\u001b[38;5;132;01m}\u001b[39;00m\u001b[38;5;124m'\u001b[39m)\n\u001b[0;32m----> 6\u001b[0m     test_climate2[m] \u001b[38;5;241m=\u001b[39m \u001b[43mERFutils\u001b[49m\u001b[38;5;241;43m.\u001b[39;49m\u001b[43mcalc_climatology\u001b[49m\u001b[43m(\u001b[49m\u001b[43mm\u001b[49m\u001b[43m,\u001b[49m\u001b[38;5;124;43m'\u001b[39;49m\u001b[38;5;124;43mtas\u001b[39;49m\u001b[38;5;124;43m'\u001b[39;49m\u001b[43m)\u001b[49m\n\u001b[1;32m      7\u001b[0m     \u001b[38;5;28;01mbreak\u001b[39;00m\n",
      "File \u001b[0;32m~/BC3/ERF_Greens/ERF_Emulator/ERFutils.py:150\u001b[0m, in \u001b[0;36mcalc_climatology\u001b[0;34m(m, var)\u001b[0m\n\u001b[1;32m    148\u001b[0m \u001b[38;5;66;03m# Load and convert piControl data to yearly\u001b[39;00m\n\u001b[1;32m    149\u001b[0m piControl_ds \u001b[38;5;241m=\u001b[39m xr\u001b[38;5;241m.\u001b[39mopen_mfdataset(\u001b[38;5;124mf\u001b[39m\u001b[38;5;124m'\u001b[39m\u001b[38;5;132;01m{\u001b[39;00mpath_to_cmip6_data_clean\u001b[38;5;132;01m}\u001b[39;00m\u001b[38;5;124mpiControl/\u001b[39m\u001b[38;5;132;01m{\u001b[39;00mvar\u001b[38;5;132;01m}\u001b[39;00m\u001b[38;5;124m_Amon_\u001b[39m\u001b[38;5;132;01m{\u001b[39;00mm\u001b[38;5;132;01m}\u001b[39;00m\u001b[38;5;124m_piControl_r1i1p1f1.nc4\u001b[39m\u001b[38;5;124m'\u001b[39m, use_cftime\u001b[38;5;241m=\u001b[39m\u001b[38;5;28;01mTrue\u001b[39;00m, chunks \u001b[38;5;241m=\u001b[39m \u001b[38;5;241m1000000\u001b[39m)\n\u001b[0;32m--> 150\u001b[0m piControl_ds \u001b[38;5;241m=\u001b[39m \u001b[43mmonthly_to_annual\u001b[49m\u001b[43m(\u001b[49m\u001b[43mpiControl_ds\u001b[49m\u001b[43m)\u001b[49m\n\u001b[1;32m    152\u001b[0m \u001b[38;5;66;03m# Average piControl over the entire simulation period\u001b[39;00m\n\u001b[1;32m    153\u001b[0m piControl_ds \u001b[38;5;241m=\u001b[39m piControl_ds\u001b[38;5;241m.\u001b[39mmean(dim \u001b[38;5;241m=\u001b[39m [\u001b[38;5;124m'\u001b[39m\u001b[38;5;124myear\u001b[39m\u001b[38;5;124m'\u001b[39m])\n",
      "File \u001b[0;32m~/BC3/ERF_Greens/ERF_Emulator/ERFutils.py:228\u001b[0m, in \u001b[0;36mmonthly_to_annual\u001b[0;34m(ds)\u001b[0m\n\u001b[1;32m    226\u001b[0m weights \u001b[38;5;241m=\u001b[39m times\u001b[38;5;241m.\u001b[39mshift(\u001b[38;5;241m-\u001b[39m\u001b[38;5;241m1\u001b[39m, \u001b[38;5;124m'\u001b[39m\u001b[38;5;124mMS\u001b[39m\u001b[38;5;124m'\u001b[39m) \u001b[38;5;241m-\u001b[39m times\u001b[38;5;241m.\u001b[39mshift(\u001b[38;5;241m1\u001b[39m, \u001b[38;5;124m'\u001b[39m\u001b[38;5;124mMS\u001b[39m\u001b[38;5;124m'\u001b[39m)\n\u001b[1;32m    227\u001b[0m weights \u001b[38;5;241m=\u001b[39m xr\u001b[38;5;241m.\u001b[39mDataArray(weights, [(\u001b[38;5;124m'\u001b[39m\u001b[38;5;124mtime\u001b[39m\u001b[38;5;124m'\u001b[39m, ds[\u001b[38;5;124m'\u001b[39m\u001b[38;5;124mtime\u001b[39m\u001b[38;5;124m'\u001b[39m]\u001b[38;5;241m.\u001b[39mvalues)])\u001b[38;5;241m.\u001b[39mastype(\u001b[38;5;124m'\u001b[39m\u001b[38;5;124mfloat\u001b[39m\u001b[38;5;124m'\u001b[39m)\n\u001b[0;32m--> 228\u001b[0m ds \u001b[38;5;241m=\u001b[39m \u001b[43m(\u001b[49m\u001b[43mds\u001b[49m\u001b[43m \u001b[49m\u001b[38;5;241;43m*\u001b[39;49m\u001b[43m \u001b[49m\u001b[43mweights\u001b[49m\u001b[43m)\u001b[49m\u001b[38;5;241;43m.\u001b[39;49m\u001b[43mgroupby\u001b[49m\u001b[43m(\u001b[49m\u001b[38;5;124;43m'\u001b[39;49m\u001b[38;5;124;43mtime.year\u001b[39;49m\u001b[38;5;124;43m'\u001b[39;49m\u001b[43m)\u001b[49m\u001b[38;5;241;43m.\u001b[39;49m\u001b[43msum\u001b[49m\u001b[43m(\u001b[49m\u001b[38;5;124;43m'\u001b[39;49m\u001b[38;5;124;43mtime\u001b[39;49m\u001b[38;5;124;43m'\u001b[39;49m\u001b[43m)\u001b[49m\u001b[38;5;241m/\u001b[39mweights\u001b[38;5;241m.\u001b[39mgroupby(\u001b[38;5;124m'\u001b[39m\u001b[38;5;124mtime.year\u001b[39m\u001b[38;5;124m'\u001b[39m)\u001b[38;5;241m.\u001b[39msum(\u001b[38;5;124m'\u001b[39m\u001b[38;5;124mtime\u001b[39m\u001b[38;5;124m'\u001b[39m)\n\u001b[1;32m    230\u001b[0m \u001b[38;5;28;01mreturn\u001b[39;00m ds\n",
      "File \u001b[0;32m~/.conda/envs/gchp/lib/python3.9/site-packages/xarray/core/_aggregations.py:3245\u001b[0m, in \u001b[0;36mDatasetGroupByAggregations.sum\u001b[0;34m(self, dim, skipna, min_count, keep_attrs, **kwargs)\u001b[0m\n\u001b[1;32m   3234\u001b[0m     \u001b[38;5;28;01mreturn\u001b[39;00m \u001b[38;5;28mself\u001b[39m\u001b[38;5;241m.\u001b[39m_flox_reduce(\n\u001b[1;32m   3235\u001b[0m         func\u001b[38;5;241m=\u001b[39m\u001b[38;5;124m\"\u001b[39m\u001b[38;5;124msum\u001b[39m\u001b[38;5;124m\"\u001b[39m,\n\u001b[1;32m   3236\u001b[0m         dim\u001b[38;5;241m=\u001b[39mdim,\n\u001b[0;32m   (...)\u001b[0m\n\u001b[1;32m   3242\u001b[0m         \u001b[38;5;241m*\u001b[39m\u001b[38;5;241m*\u001b[39mkwargs,\n\u001b[1;32m   3243\u001b[0m     )\n\u001b[1;32m   3244\u001b[0m \u001b[38;5;28;01melse\u001b[39;00m:\n\u001b[0;32m-> 3245\u001b[0m     \u001b[38;5;28;01mreturn\u001b[39;00m \u001b[38;5;28;43mself\u001b[39;49m\u001b[38;5;241;43m.\u001b[39;49m\u001b[43mreduce\u001b[49m\u001b[43m(\u001b[49m\n\u001b[1;32m   3246\u001b[0m \u001b[43m        \u001b[49m\u001b[43mduck_array_ops\u001b[49m\u001b[38;5;241;43m.\u001b[39;49m\u001b[43msum\u001b[49m\u001b[43m,\u001b[49m\n\u001b[1;32m   3247\u001b[0m \u001b[43m        \u001b[49m\u001b[43mdim\u001b[49m\u001b[38;5;241;43m=\u001b[39;49m\u001b[43mdim\u001b[49m\u001b[43m,\u001b[49m\n\u001b[1;32m   3248\u001b[0m \u001b[43m        \u001b[49m\u001b[43mskipna\u001b[49m\u001b[38;5;241;43m=\u001b[39;49m\u001b[43mskipna\u001b[49m\u001b[43m,\u001b[49m\n\u001b[1;32m   3249\u001b[0m \u001b[43m        \u001b[49m\u001b[43mmin_count\u001b[49m\u001b[38;5;241;43m=\u001b[39;49m\u001b[43mmin_count\u001b[49m\u001b[43m,\u001b[49m\n\u001b[1;32m   3250\u001b[0m \u001b[43m        \u001b[49m\u001b[43mnumeric_only\u001b[49m\u001b[38;5;241;43m=\u001b[39;49m\u001b[38;5;28;43;01mTrue\u001b[39;49;00m\u001b[43m,\u001b[49m\n\u001b[1;32m   3251\u001b[0m \u001b[43m        \u001b[49m\u001b[43mkeep_attrs\u001b[49m\u001b[38;5;241;43m=\u001b[39;49m\u001b[43mkeep_attrs\u001b[49m\u001b[43m,\u001b[49m\n\u001b[1;32m   3252\u001b[0m \u001b[43m        \u001b[49m\u001b[38;5;241;43m*\u001b[39;49m\u001b[38;5;241;43m*\u001b[39;49m\u001b[43mkwargs\u001b[49m\u001b[43m,\u001b[49m\n\u001b[1;32m   3253\u001b[0m \u001b[43m    \u001b[49m\u001b[43m)\u001b[49m\n",
      "File \u001b[0;32m~/.conda/envs/gchp/lib/python3.9/site-packages/xarray/core/groupby.py:1349\u001b[0m, in \u001b[0;36mDatasetGroupByBase.reduce\u001b[0;34m(self, func, dim, axis, keep_attrs, keepdims, shortcut, **kwargs)\u001b[0m\n\u001b[1;32m   1338\u001b[0m     \u001b[38;5;28;01mreturn\u001b[39;00m ds\u001b[38;5;241m.\u001b[39mreduce(\n\u001b[1;32m   1339\u001b[0m         func\u001b[38;5;241m=\u001b[39mfunc,\n\u001b[1;32m   1340\u001b[0m         dim\u001b[38;5;241m=\u001b[39mdim,\n\u001b[0;32m   (...)\u001b[0m\n\u001b[1;32m   1344\u001b[0m         \u001b[38;5;241m*\u001b[39m\u001b[38;5;241m*\u001b[39mkwargs,\n\u001b[1;32m   1345\u001b[0m     )\n\u001b[1;32m   1347\u001b[0m check_reduce_dims(dim, \u001b[38;5;28mself\u001b[39m\u001b[38;5;241m.\u001b[39mdims)\n\u001b[0;32m-> 1349\u001b[0m \u001b[38;5;28;01mreturn\u001b[39;00m \u001b[38;5;28;43mself\u001b[39;49m\u001b[38;5;241;43m.\u001b[39;49m\u001b[43mmap\u001b[49m\u001b[43m(\u001b[49m\u001b[43mreduce_dataset\u001b[49m\u001b[43m)\u001b[49m\n",
      "File \u001b[0;32m~/.conda/envs/gchp/lib/python3.9/site-packages/xarray/core/groupby.py:1258\u001b[0m, in \u001b[0;36mDatasetGroupByBase.map\u001b[0;34m(self, func, args, shortcut, **kwargs)\u001b[0m\n\u001b[1;32m   1256\u001b[0m \u001b[38;5;66;03m# ignore shortcut if set (for now)\u001b[39;00m\n\u001b[1;32m   1257\u001b[0m applied \u001b[38;5;241m=\u001b[39m (func(ds, \u001b[38;5;241m*\u001b[39margs, \u001b[38;5;241m*\u001b[39m\u001b[38;5;241m*\u001b[39mkwargs) \u001b[38;5;28;01mfor\u001b[39;00m ds \u001b[38;5;129;01min\u001b[39;00m \u001b[38;5;28mself\u001b[39m\u001b[38;5;241m.\u001b[39m_iter_grouped())\n\u001b[0;32m-> 1258\u001b[0m \u001b[38;5;28;01mreturn\u001b[39;00m \u001b[38;5;28;43mself\u001b[39;49m\u001b[38;5;241;43m.\u001b[39;49m\u001b[43m_combine\u001b[49m\u001b[43m(\u001b[49m\u001b[43mapplied\u001b[49m\u001b[43m)\u001b[49m\n",
      "File \u001b[0;32m~/.conda/envs/gchp/lib/python3.9/site-packages/xarray/core/groupby.py:1280\u001b[0m, in \u001b[0;36mDatasetGroupByBase._combine\u001b[0;34m(self, applied)\u001b[0m\n\u001b[1;32m   1278\u001b[0m applied_example, applied \u001b[38;5;241m=\u001b[39m peek_at(applied)\n\u001b[1;32m   1279\u001b[0m coord, dim, positions \u001b[38;5;241m=\u001b[39m \u001b[38;5;28mself\u001b[39m\u001b[38;5;241m.\u001b[39m_infer_concat_args(applied_example)\n\u001b[0;32m-> 1280\u001b[0m combined \u001b[38;5;241m=\u001b[39m \u001b[43mconcat\u001b[49m\u001b[43m(\u001b[49m\u001b[43mapplied\u001b[49m\u001b[43m,\u001b[49m\u001b[43m \u001b[49m\u001b[43mdim\u001b[49m\u001b[43m)\u001b[49m\n\u001b[1;32m   1281\u001b[0m combined \u001b[38;5;241m=\u001b[39m _maybe_reorder(combined, dim, positions)\n\u001b[1;32m   1282\u001b[0m \u001b[38;5;66;03m# assign coord when the applied function does not return that coord\u001b[39;00m\n",
      "File \u001b[0;32m~/.conda/envs/gchp/lib/python3.9/site-packages/xarray/core/concat.py:249\u001b[0m, in \u001b[0;36mconcat\u001b[0;34m(objs, dim, data_vars, coords, compat, positions, fill_value, join, combine_attrs)\u001b[0m\n\u001b[1;32m    237\u001b[0m     \u001b[38;5;28;01mreturn\u001b[39;00m _dataarray_concat(\n\u001b[1;32m    238\u001b[0m         objs,\n\u001b[1;32m    239\u001b[0m         dim\u001b[38;5;241m=\u001b[39mdim,\n\u001b[0;32m   (...)\u001b[0m\n\u001b[1;32m    246\u001b[0m         combine_attrs\u001b[38;5;241m=\u001b[39mcombine_attrs,\n\u001b[1;32m    247\u001b[0m     )\n\u001b[1;32m    248\u001b[0m \u001b[38;5;28;01melif\u001b[39;00m \u001b[38;5;28misinstance\u001b[39m(first_obj, Dataset):\n\u001b[0;32m--> 249\u001b[0m     \u001b[38;5;28;01mreturn\u001b[39;00m \u001b[43m_dataset_concat\u001b[49m\u001b[43m(\u001b[49m\n\u001b[1;32m    250\u001b[0m \u001b[43m        \u001b[49m\u001b[43mobjs\u001b[49m\u001b[43m,\u001b[49m\n\u001b[1;32m    251\u001b[0m \u001b[43m        \u001b[49m\u001b[43mdim\u001b[49m\u001b[38;5;241;43m=\u001b[39;49m\u001b[43mdim\u001b[49m\u001b[43m,\u001b[49m\n\u001b[1;32m    252\u001b[0m \u001b[43m        \u001b[49m\u001b[43mdata_vars\u001b[49m\u001b[38;5;241;43m=\u001b[39;49m\u001b[43mdata_vars\u001b[49m\u001b[43m,\u001b[49m\n\u001b[1;32m    253\u001b[0m \u001b[43m        \u001b[49m\u001b[43mcoords\u001b[49m\u001b[38;5;241;43m=\u001b[39;49m\u001b[43mcoords\u001b[49m\u001b[43m,\u001b[49m\n\u001b[1;32m    254\u001b[0m \u001b[43m        \u001b[49m\u001b[43mcompat\u001b[49m\u001b[38;5;241;43m=\u001b[39;49m\u001b[43mcompat\u001b[49m\u001b[43m,\u001b[49m\n\u001b[1;32m    255\u001b[0m \u001b[43m        \u001b[49m\u001b[43mpositions\u001b[49m\u001b[38;5;241;43m=\u001b[39;49m\u001b[43mpositions\u001b[49m\u001b[43m,\u001b[49m\n\u001b[1;32m    256\u001b[0m \u001b[43m        \u001b[49m\u001b[43mfill_value\u001b[49m\u001b[38;5;241;43m=\u001b[39;49m\u001b[43mfill_value\u001b[49m\u001b[43m,\u001b[49m\n\u001b[1;32m    257\u001b[0m \u001b[43m        \u001b[49m\u001b[43mjoin\u001b[49m\u001b[38;5;241;43m=\u001b[39;49m\u001b[43mjoin\u001b[49m\u001b[43m,\u001b[49m\n\u001b[1;32m    258\u001b[0m \u001b[43m        \u001b[49m\u001b[43mcombine_attrs\u001b[49m\u001b[38;5;241;43m=\u001b[39;49m\u001b[43mcombine_attrs\u001b[49m\u001b[43m,\u001b[49m\n\u001b[1;32m    259\u001b[0m \u001b[43m    \u001b[49m\u001b[43m)\u001b[49m\n\u001b[1;32m    260\u001b[0m \u001b[38;5;28;01melse\u001b[39;00m:\n\u001b[1;32m    261\u001b[0m     \u001b[38;5;28;01mraise\u001b[39;00m \u001b[38;5;167;01mTypeError\u001b[39;00m(\n\u001b[1;32m    262\u001b[0m         \u001b[38;5;124m\"\u001b[39m\u001b[38;5;124mcan only concatenate xarray Dataset and DataArray \u001b[39m\u001b[38;5;124m\"\u001b[39m\n\u001b[1;32m    263\u001b[0m         \u001b[38;5;124mf\u001b[39m\u001b[38;5;124m\"\u001b[39m\u001b[38;5;124mobjects, got \u001b[39m\u001b[38;5;132;01m{\u001b[39;00m\u001b[38;5;28mtype\u001b[39m(first_obj)\u001b[38;5;132;01m}\u001b[39;00m\u001b[38;5;124m\"\u001b[39m\n\u001b[1;32m    264\u001b[0m     )\n",
      "File \u001b[0;32m~/.conda/envs/gchp/lib/python3.9/site-packages/xarray/core/concat.py:462\u001b[0m, in \u001b[0;36m_dataset_concat\u001b[0;34m(datasets, dim, data_vars, coords, compat, positions, fill_value, join, combine_attrs)\u001b[0m\n\u001b[1;32m    459\u001b[0m \u001b[38;5;28;01mfrom\u001b[39;00m \u001b[38;5;21;01mxarray\u001b[39;00m\u001b[38;5;21;01m.\u001b[39;00m\u001b[38;5;21;01mcore\u001b[39;00m\u001b[38;5;21;01m.\u001b[39;00m\u001b[38;5;21;01mdataarray\u001b[39;00m \u001b[38;5;28;01mimport\u001b[39;00m DataArray\n\u001b[1;32m    460\u001b[0m \u001b[38;5;28;01mfrom\u001b[39;00m \u001b[38;5;21;01mxarray\u001b[39;00m\u001b[38;5;21;01m.\u001b[39;00m\u001b[38;5;21;01mcore\u001b[39;00m\u001b[38;5;21;01m.\u001b[39;00m\u001b[38;5;21;01mdataset\u001b[39;00m \u001b[38;5;28;01mimport\u001b[39;00m Dataset\n\u001b[0;32m--> 462\u001b[0m datasets \u001b[38;5;241m=\u001b[39m \u001b[38;5;28;43mlist\u001b[39;49m\u001b[43m(\u001b[49m\u001b[43mdatasets\u001b[49m\u001b[43m)\u001b[49m\n\u001b[1;32m    464\u001b[0m \u001b[38;5;28;01mif\u001b[39;00m \u001b[38;5;129;01mnot\u001b[39;00m \u001b[38;5;28mall\u001b[39m(\u001b[38;5;28misinstance\u001b[39m(dataset, Dataset) \u001b[38;5;28;01mfor\u001b[39;00m dataset \u001b[38;5;129;01min\u001b[39;00m datasets):\n\u001b[1;32m    465\u001b[0m     \u001b[38;5;28;01mraise\u001b[39;00m \u001b[38;5;167;01mTypeError\u001b[39;00m(\n\u001b[1;32m    466\u001b[0m         \u001b[38;5;124m\"\u001b[39m\u001b[38;5;124mThe elements in the input list need to be either all \u001b[39m\u001b[38;5;124m'\u001b[39m\u001b[38;5;124mDataset\u001b[39m\u001b[38;5;124m'\u001b[39m\u001b[38;5;124ms or all \u001b[39m\u001b[38;5;124m'\u001b[39m\u001b[38;5;124mDataArray\u001b[39m\u001b[38;5;124m'\u001b[39m\u001b[38;5;124ms\u001b[39m\u001b[38;5;124m\"\u001b[39m\n\u001b[1;32m    467\u001b[0m     )\n",
      "File \u001b[0;32m~/.conda/envs/gchp/lib/python3.9/site-packages/xarray/core/groupby.py:1257\u001b[0m, in \u001b[0;36m<genexpr>\u001b[0;34m(.0)\u001b[0m\n\u001b[1;32m   1227\u001b[0m \u001b[38;5;250m\u001b[39m\u001b[38;5;124;03m\"\"\"Apply a function to each Dataset in the group and concatenate them\u001b[39;00m\n\u001b[1;32m   1228\u001b[0m \u001b[38;5;124;03mtogether into a new Dataset.\u001b[39;00m\n\u001b[1;32m   1229\u001b[0m \n\u001b[0;32m   (...)\u001b[0m\n\u001b[1;32m   1254\u001b[0m \u001b[38;5;124;03m    The result of splitting, applying and combining this dataset.\u001b[39;00m\n\u001b[1;32m   1255\u001b[0m \u001b[38;5;124;03m\"\"\"\u001b[39;00m\n\u001b[1;32m   1256\u001b[0m \u001b[38;5;66;03m# ignore shortcut if set (for now)\u001b[39;00m\n\u001b[0;32m-> 1257\u001b[0m applied \u001b[38;5;241m=\u001b[39m (\u001b[43mfunc\u001b[49m\u001b[43m(\u001b[49m\u001b[43mds\u001b[49m\u001b[43m,\u001b[49m\u001b[43m \u001b[49m\u001b[38;5;241;43m*\u001b[39;49m\u001b[43margs\u001b[49m\u001b[43m,\u001b[49m\u001b[43m \u001b[49m\u001b[38;5;241;43m*\u001b[39;49m\u001b[38;5;241;43m*\u001b[39;49m\u001b[43mkwargs\u001b[49m\u001b[43m)\u001b[49m \u001b[38;5;28;01mfor\u001b[39;00m ds \u001b[38;5;129;01min\u001b[39;00m \u001b[38;5;28mself\u001b[39m\u001b[38;5;241m.\u001b[39m_iter_grouped())\n\u001b[1;32m   1258\u001b[0m \u001b[38;5;28;01mreturn\u001b[39;00m \u001b[38;5;28mself\u001b[39m\u001b[38;5;241m.\u001b[39m_combine(applied)\n",
      "File \u001b[0;32m~/.conda/envs/gchp/lib/python3.9/site-packages/xarray/core/groupby.py:1338\u001b[0m, in \u001b[0;36mDatasetGroupByBase.reduce.<locals>.reduce_dataset\u001b[0;34m(ds)\u001b[0m\n\u001b[1;32m   1337\u001b[0m \u001b[38;5;28;01mdef\u001b[39;00m \u001b[38;5;21mreduce_dataset\u001b[39m(ds: Dataset) \u001b[38;5;241m-\u001b[39m\u001b[38;5;241m>\u001b[39m Dataset:\n\u001b[0;32m-> 1338\u001b[0m     \u001b[38;5;28;01mreturn\u001b[39;00m \u001b[43mds\u001b[49m\u001b[38;5;241;43m.\u001b[39;49m\u001b[43mreduce\u001b[49m\u001b[43m(\u001b[49m\n\u001b[1;32m   1339\u001b[0m \u001b[43m        \u001b[49m\u001b[43mfunc\u001b[49m\u001b[38;5;241;43m=\u001b[39;49m\u001b[43mfunc\u001b[49m\u001b[43m,\u001b[49m\n\u001b[1;32m   1340\u001b[0m \u001b[43m        \u001b[49m\u001b[43mdim\u001b[49m\u001b[38;5;241;43m=\u001b[39;49m\u001b[43mdim\u001b[49m\u001b[43m,\u001b[49m\n\u001b[1;32m   1341\u001b[0m \u001b[43m        \u001b[49m\u001b[43maxis\u001b[49m\u001b[38;5;241;43m=\u001b[39;49m\u001b[43maxis\u001b[49m\u001b[43m,\u001b[49m\n\u001b[1;32m   1342\u001b[0m \u001b[43m        \u001b[49m\u001b[43mkeep_attrs\u001b[49m\u001b[38;5;241;43m=\u001b[39;49m\u001b[43mkeep_attrs\u001b[49m\u001b[43m,\u001b[49m\n\u001b[1;32m   1343\u001b[0m \u001b[43m        \u001b[49m\u001b[43mkeepdims\u001b[49m\u001b[38;5;241;43m=\u001b[39;49m\u001b[43mkeepdims\u001b[49m\u001b[43m,\u001b[49m\n\u001b[1;32m   1344\u001b[0m \u001b[43m        \u001b[49m\u001b[38;5;241;43m*\u001b[39;49m\u001b[38;5;241;43m*\u001b[39;49m\u001b[43mkwargs\u001b[49m\u001b[43m,\u001b[49m\n\u001b[1;32m   1345\u001b[0m \u001b[43m    \u001b[49m\u001b[43m)\u001b[49m\n",
      "File \u001b[0;32m~/.conda/envs/gchp/lib/python3.9/site-packages/xarray/core/dataset.py:5891\u001b[0m, in \u001b[0;36mDataset.reduce\u001b[0;34m(self, func, dim, keep_attrs, keepdims, numeric_only, **kwargs)\u001b[0m\n\u001b[1;32m   5874\u001b[0m         \u001b[38;5;28;01mif\u001b[39;00m (\n\u001b[1;32m   5875\u001b[0m             \u001b[38;5;66;03m# Some reduction functions (e.g. std, var) need to run on variables\u001b[39;00m\n\u001b[1;32m   5876\u001b[0m             \u001b[38;5;66;03m# that don't have the reduce dims: PR5393\u001b[39;00m\n\u001b[0;32m   (...)\u001b[0m\n\u001b[1;32m   5884\u001b[0m             \u001b[38;5;66;03m# the former is often more efficient\u001b[39;00m\n\u001b[1;32m   5885\u001b[0m             \u001b[38;5;66;03m# keep single-element dims as list, to support Hashables\u001b[39;00m\n\u001b[1;32m   5886\u001b[0m             reduce_maybe_single \u001b[38;5;241m=\u001b[39m (\n\u001b[1;32m   5887\u001b[0m                 \u001b[38;5;28;01mNone\u001b[39;00m\n\u001b[1;32m   5888\u001b[0m                 \u001b[38;5;28;01mif\u001b[39;00m \u001b[38;5;28mlen\u001b[39m(reduce_dims) \u001b[38;5;241m==\u001b[39m var\u001b[38;5;241m.\u001b[39mndim \u001b[38;5;129;01mand\u001b[39;00m var\u001b[38;5;241m.\u001b[39mndim \u001b[38;5;241m!=\u001b[39m \u001b[38;5;241m1\u001b[39m\n\u001b[1;32m   5889\u001b[0m                 \u001b[38;5;28;01melse\u001b[39;00m reduce_dims\n\u001b[1;32m   5890\u001b[0m             )\n\u001b[0;32m-> 5891\u001b[0m             variables[name] \u001b[38;5;241m=\u001b[39m \u001b[43mvar\u001b[49m\u001b[38;5;241;43m.\u001b[39;49m\u001b[43mreduce\u001b[49m\u001b[43m(\u001b[49m\n\u001b[1;32m   5892\u001b[0m \u001b[43m                \u001b[49m\u001b[43mfunc\u001b[49m\u001b[43m,\u001b[49m\n\u001b[1;32m   5893\u001b[0m \u001b[43m                \u001b[49m\u001b[43mdim\u001b[49m\u001b[38;5;241;43m=\u001b[39;49m\u001b[43mreduce_maybe_single\u001b[49m\u001b[43m,\u001b[49m\n\u001b[1;32m   5894\u001b[0m \u001b[43m                \u001b[49m\u001b[43mkeep_attrs\u001b[49m\u001b[38;5;241;43m=\u001b[39;49m\u001b[43mkeep_attrs\u001b[49m\u001b[43m,\u001b[49m\n\u001b[1;32m   5895\u001b[0m \u001b[43m                \u001b[49m\u001b[43mkeepdims\u001b[49m\u001b[38;5;241;43m=\u001b[39;49m\u001b[43mkeepdims\u001b[49m\u001b[43m,\u001b[49m\n\u001b[1;32m   5896\u001b[0m \u001b[43m                \u001b[49m\u001b[38;5;241;43m*\u001b[39;49m\u001b[38;5;241;43m*\u001b[39;49m\u001b[43mkwargs\u001b[49m\u001b[43m,\u001b[49m\n\u001b[1;32m   5897\u001b[0m \u001b[43m            \u001b[49m\u001b[43m)\u001b[49m\n\u001b[1;32m   5899\u001b[0m coord_names \u001b[38;5;241m=\u001b[39m {k \u001b[38;5;28;01mfor\u001b[39;00m k \u001b[38;5;129;01min\u001b[39;00m \u001b[38;5;28mself\u001b[39m\u001b[38;5;241m.\u001b[39mcoords \u001b[38;5;28;01mif\u001b[39;00m k \u001b[38;5;129;01min\u001b[39;00m variables}\n\u001b[1;32m   5900\u001b[0m indexes \u001b[38;5;241m=\u001b[39m {k: v \u001b[38;5;28;01mfor\u001b[39;00m k, v \u001b[38;5;129;01min\u001b[39;00m \u001b[38;5;28mself\u001b[39m\u001b[38;5;241m.\u001b[39m_indexes\u001b[38;5;241m.\u001b[39mitems() \u001b[38;5;28;01mif\u001b[39;00m k \u001b[38;5;129;01min\u001b[39;00m variables}\n",
      "File \u001b[0;32m~/.conda/envs/gchp/lib/python3.9/site-packages/xarray/core/variable.py:1946\u001b[0m, in \u001b[0;36mVariable.reduce\u001b[0;34m(self, func, dim, axis, keep_attrs, keepdims, **kwargs)\u001b[0m\n\u001b[1;32m   1942\u001b[0m     \u001b[38;5;28;01mif\u001b[39;00m \u001b[38;5;28misinstance\u001b[39m(axis, \u001b[38;5;28mtuple\u001b[39m) \u001b[38;5;129;01mand\u001b[39;00m \u001b[38;5;28mlen\u001b[39m(axis) \u001b[38;5;241m==\u001b[39m \u001b[38;5;241m1\u001b[39m:\n\u001b[1;32m   1943\u001b[0m         \u001b[38;5;66;03m# unpack axis for the benefit of functions\u001b[39;00m\n\u001b[1;32m   1944\u001b[0m         \u001b[38;5;66;03m# like np.argmin which can't handle tuple arguments\u001b[39;00m\n\u001b[1;32m   1945\u001b[0m         axis \u001b[38;5;241m=\u001b[39m axis[\u001b[38;5;241m0\u001b[39m]\n\u001b[0;32m-> 1946\u001b[0m     data \u001b[38;5;241m=\u001b[39m \u001b[43mfunc\u001b[49m\u001b[43m(\u001b[49m\u001b[38;5;28;43mself\u001b[39;49m\u001b[38;5;241;43m.\u001b[39;49m\u001b[43mdata\u001b[49m\u001b[43m,\u001b[49m\u001b[43m \u001b[49m\u001b[43maxis\u001b[49m\u001b[38;5;241;43m=\u001b[39;49m\u001b[43maxis\u001b[49m\u001b[43m,\u001b[49m\u001b[43m \u001b[49m\u001b[38;5;241;43m*\u001b[39;49m\u001b[38;5;241;43m*\u001b[39;49m\u001b[43mkwargs\u001b[49m\u001b[43m)\u001b[49m\n\u001b[1;32m   1947\u001b[0m \u001b[38;5;28;01melse\u001b[39;00m:\n\u001b[1;32m   1948\u001b[0m     data \u001b[38;5;241m=\u001b[39m func(\u001b[38;5;28mself\u001b[39m\u001b[38;5;241m.\u001b[39mdata, \u001b[38;5;241m*\u001b[39m\u001b[38;5;241m*\u001b[39mkwargs)\n",
      "File \u001b[0;32m~/.conda/envs/gchp/lib/python3.9/site-packages/xarray/core/duck_array_ops.py:378\u001b[0m, in \u001b[0;36m_create_nan_agg_method.<locals>.f\u001b[0;34m(values, axis, skipna, **kwargs)\u001b[0m\n\u001b[1;32m    376\u001b[0m     \u001b[38;5;28;01mwith\u001b[39;00m warnings\u001b[38;5;241m.\u001b[39mcatch_warnings():\n\u001b[1;32m    377\u001b[0m         warnings\u001b[38;5;241m.\u001b[39mfilterwarnings(\u001b[38;5;124m\"\u001b[39m\u001b[38;5;124mignore\u001b[39m\u001b[38;5;124m\"\u001b[39m, \u001b[38;5;124m\"\u001b[39m\u001b[38;5;124mAll-NaN slice encountered\u001b[39m\u001b[38;5;124m\"\u001b[39m)\n\u001b[0;32m--> 378\u001b[0m         \u001b[38;5;28;01mreturn\u001b[39;00m \u001b[43mfunc\u001b[49m\u001b[43m(\u001b[49m\u001b[43mvalues\u001b[49m\u001b[43m,\u001b[49m\u001b[43m \u001b[49m\u001b[43maxis\u001b[49m\u001b[38;5;241;43m=\u001b[39;49m\u001b[43maxis\u001b[49m\u001b[43m,\u001b[49m\u001b[43m \u001b[49m\u001b[38;5;241;43m*\u001b[39;49m\u001b[38;5;241;43m*\u001b[39;49m\u001b[43mkwargs\u001b[49m\u001b[43m)\u001b[49m\n\u001b[1;32m    379\u001b[0m \u001b[38;5;28;01mexcept\u001b[39;00m \u001b[38;5;167;01mAttributeError\u001b[39;00m:\n\u001b[1;32m    380\u001b[0m     \u001b[38;5;28;01mif\u001b[39;00m \u001b[38;5;129;01mnot\u001b[39;00m is_duck_dask_array(values):\n",
      "File \u001b[0;32m~/.conda/envs/gchp/lib/python3.9/site-packages/xarray/core/nanops.py:94\u001b[0m, in \u001b[0;36mnansum\u001b[0;34m(a, axis, dtype, out, min_count)\u001b[0m\n\u001b[1;32m     92\u001b[0m \u001b[38;5;28;01mdef\u001b[39;00m \u001b[38;5;21mnansum\u001b[39m(a, axis\u001b[38;5;241m=\u001b[39m\u001b[38;5;28;01mNone\u001b[39;00m, dtype\u001b[38;5;241m=\u001b[39m\u001b[38;5;28;01mNone\u001b[39;00m, out\u001b[38;5;241m=\u001b[39m\u001b[38;5;28;01mNone\u001b[39;00m, min_count\u001b[38;5;241m=\u001b[39m\u001b[38;5;28;01mNone\u001b[39;00m):\n\u001b[1;32m     93\u001b[0m     mask \u001b[38;5;241m=\u001b[39m isnull(a)\n\u001b[0;32m---> 94\u001b[0m     result \u001b[38;5;241m=\u001b[39m \u001b[43msum_where\u001b[49m\u001b[43m(\u001b[49m\u001b[43ma\u001b[49m\u001b[43m,\u001b[49m\u001b[43m \u001b[49m\u001b[43maxis\u001b[49m\u001b[38;5;241;43m=\u001b[39;49m\u001b[43maxis\u001b[49m\u001b[43m,\u001b[49m\u001b[43m \u001b[49m\u001b[43mdtype\u001b[49m\u001b[38;5;241;43m=\u001b[39;49m\u001b[43mdtype\u001b[49m\u001b[43m,\u001b[49m\u001b[43m \u001b[49m\u001b[43mwhere\u001b[49m\u001b[38;5;241;43m=\u001b[39;49m\u001b[43mmask\u001b[49m\u001b[43m)\u001b[49m\n\u001b[1;32m     95\u001b[0m     \u001b[38;5;28;01mif\u001b[39;00m min_count \u001b[38;5;129;01mis\u001b[39;00m \u001b[38;5;129;01mnot\u001b[39;00m \u001b[38;5;28;01mNone\u001b[39;00m:\n\u001b[1;32m     96\u001b[0m         \u001b[38;5;28;01mreturn\u001b[39;00m _maybe_null_out(result, axis, mask, min_count)\n",
      "File \u001b[0;32m~/.conda/envs/gchp/lib/python3.9/site-packages/xarray/core/duck_array_ops.py:291\u001b[0m, in \u001b[0;36msum_where\u001b[0;34m(data, axis, dtype, where)\u001b[0m\n\u001b[1;32m    289\u001b[0m xp \u001b[38;5;241m=\u001b[39m get_array_namespace(data)\n\u001b[1;32m    290\u001b[0m \u001b[38;5;28;01mif\u001b[39;00m where \u001b[38;5;129;01mis\u001b[39;00m \u001b[38;5;129;01mnot\u001b[39;00m \u001b[38;5;28;01mNone\u001b[39;00m:\n\u001b[0;32m--> 291\u001b[0m     a \u001b[38;5;241m=\u001b[39m \u001b[43mwhere_method\u001b[49m\u001b[43m(\u001b[49m\u001b[43mxp\u001b[49m\u001b[38;5;241;43m.\u001b[39;49m\u001b[43mzeros_like\u001b[49m\u001b[43m(\u001b[49m\u001b[43mdata\u001b[49m\u001b[43m)\u001b[49m\u001b[43m,\u001b[49m\u001b[43m \u001b[49m\u001b[43mwhere\u001b[49m\u001b[43m,\u001b[49m\u001b[43m \u001b[49m\u001b[43mdata\u001b[49m\u001b[43m)\u001b[49m\n\u001b[1;32m    292\u001b[0m \u001b[38;5;28;01melse\u001b[39;00m:\n\u001b[1;32m    293\u001b[0m     a \u001b[38;5;241m=\u001b[39m data\n",
      "File \u001b[0;32m~/.conda/envs/gchp/lib/python3.9/site-packages/xarray/core/duck_array_ops.py:307\u001b[0m, in \u001b[0;36mwhere_method\u001b[0;34m(data, cond, other)\u001b[0m\n\u001b[1;32m    305\u001b[0m \u001b[38;5;28;01mif\u001b[39;00m other \u001b[38;5;129;01mis\u001b[39;00m dtypes\u001b[38;5;241m.\u001b[39mNA:\n\u001b[1;32m    306\u001b[0m     other \u001b[38;5;241m=\u001b[39m dtypes\u001b[38;5;241m.\u001b[39mget_fill_value(data\u001b[38;5;241m.\u001b[39mdtype)\n\u001b[0;32m--> 307\u001b[0m \u001b[38;5;28;01mreturn\u001b[39;00m \u001b[43mwhere\u001b[49m\u001b[43m(\u001b[49m\u001b[43mcond\u001b[49m\u001b[43m,\u001b[49m\u001b[43m \u001b[49m\u001b[43mdata\u001b[49m\u001b[43m,\u001b[49m\u001b[43m \u001b[49m\u001b[43mother\u001b[49m\u001b[43m)\u001b[49m\n",
      "File \u001b[0;32m~/.conda/envs/gchp/lib/python3.9/site-packages/xarray/core/duck_array_ops.py:301\u001b[0m, in \u001b[0;36mwhere\u001b[0;34m(condition, x, y)\u001b[0m\n\u001b[1;32m    299\u001b[0m \u001b[38;5;250m\u001b[39m\u001b[38;5;124;03m\"\"\"Three argument where() with better dtype promotion rules.\"\"\"\u001b[39;00m\n\u001b[1;32m    300\u001b[0m xp \u001b[38;5;241m=\u001b[39m get_array_namespace(condition)\n\u001b[0;32m--> 301\u001b[0m \u001b[38;5;28;01mreturn\u001b[39;00m xp\u001b[38;5;241m.\u001b[39mwhere(condition, \u001b[38;5;241m*\u001b[39m\u001b[43mas_shared_dtype\u001b[49m\u001b[43m(\u001b[49m\u001b[43m[\u001b[49m\u001b[43mx\u001b[49m\u001b[43m,\u001b[49m\u001b[43m \u001b[49m\u001b[43my\u001b[49m\u001b[43m]\u001b[49m\u001b[43m,\u001b[49m\u001b[43m \u001b[49m\u001b[43mxp\u001b[49m\u001b[38;5;241;43m=\u001b[39;49m\u001b[43mxp\u001b[49m\u001b[43m)\u001b[49m)\n",
      "File \u001b[0;32m~/.conda/envs/gchp/lib/python3.9/site-packages/xarray/core/duck_array_ops.py:196\u001b[0m, in \u001b[0;36mas_shared_dtype\u001b[0;34m(scalars_or_arrays, xp)\u001b[0m\n\u001b[1;32m    194\u001b[0m \u001b[38;5;28;01mdef\u001b[39;00m \u001b[38;5;21mas_shared_dtype\u001b[39m(scalars_or_arrays, xp\u001b[38;5;241m=\u001b[39mnp):\n\u001b[1;32m    195\u001b[0m \u001b[38;5;250m    \u001b[39m\u001b[38;5;124;03m\"\"\"Cast a arrays to a shared dtype using xarray's type promotion rules.\"\"\"\u001b[39;00m\n\u001b[0;32m--> 196\u001b[0m     \u001b[38;5;28;01mif\u001b[39;00m \u001b[38;5;28;43many\u001b[39;49m\u001b[43m(\u001b[49m\u001b[38;5;28;43misinstance\u001b[39;49m\u001b[43m(\u001b[49m\u001b[43mx\u001b[49m\u001b[43m,\u001b[49m\u001b[43m \u001b[49m\u001b[43marray_type\u001b[49m\u001b[43m(\u001b[49m\u001b[38;5;124;43m\"\u001b[39;49m\u001b[38;5;124;43mcupy\u001b[39;49m\u001b[38;5;124;43m\"\u001b[39;49m\u001b[43m)\u001b[49m\u001b[43m)\u001b[49m\u001b[43m \u001b[49m\u001b[38;5;28;43;01mfor\u001b[39;49;00m\u001b[43m \u001b[49m\u001b[43mx\u001b[49m\u001b[43m \u001b[49m\u001b[38;5;129;43;01min\u001b[39;49;00m\u001b[43m \u001b[49m\u001b[43mscalars_or_arrays\u001b[49m\u001b[43m)\u001b[49m:\n\u001b[1;32m    197\u001b[0m         \u001b[38;5;28;01mimport\u001b[39;00m \u001b[38;5;21;01mcupy\u001b[39;00m \u001b[38;5;28;01mas\u001b[39;00m \u001b[38;5;21;01mcp\u001b[39;00m\n\u001b[1;32m    199\u001b[0m         arrays \u001b[38;5;241m=\u001b[39m [asarray(x, xp\u001b[38;5;241m=\u001b[39mcp) \u001b[38;5;28;01mfor\u001b[39;00m x \u001b[38;5;129;01min\u001b[39;00m scalars_or_arrays]\n",
      "File \u001b[0;32m~/.conda/envs/gchp/lib/python3.9/site-packages/xarray/core/duck_array_ops.py:196\u001b[0m, in \u001b[0;36m<genexpr>\u001b[0;34m(.0)\u001b[0m\n\u001b[1;32m    194\u001b[0m \u001b[38;5;28;01mdef\u001b[39;00m \u001b[38;5;21mas_shared_dtype\u001b[39m(scalars_or_arrays, xp\u001b[38;5;241m=\u001b[39mnp):\n\u001b[1;32m    195\u001b[0m \u001b[38;5;250m    \u001b[39m\u001b[38;5;124;03m\"\"\"Cast a arrays to a shared dtype using xarray's type promotion rules.\"\"\"\u001b[39;00m\n\u001b[0;32m--> 196\u001b[0m     \u001b[38;5;28;01mif\u001b[39;00m \u001b[38;5;28many\u001b[39m(\u001b[38;5;28misinstance\u001b[39m(x, \u001b[43marray_type\u001b[49m\u001b[43m(\u001b[49m\u001b[38;5;124;43m\"\u001b[39;49m\u001b[38;5;124;43mcupy\u001b[39;49m\u001b[38;5;124;43m\"\u001b[39;49m\u001b[43m)\u001b[49m) \u001b[38;5;28;01mfor\u001b[39;00m x \u001b[38;5;129;01min\u001b[39;00m scalars_or_arrays):\n\u001b[1;32m    197\u001b[0m         \u001b[38;5;28;01mimport\u001b[39;00m \u001b[38;5;21;01mcupy\u001b[39;00m \u001b[38;5;28;01mas\u001b[39;00m \u001b[38;5;21;01mcp\u001b[39;00m\n\u001b[1;32m    199\u001b[0m         arrays \u001b[38;5;241m=\u001b[39m [asarray(x, xp\u001b[38;5;241m=\u001b[39mcp) \u001b[38;5;28;01mfor\u001b[39;00m x \u001b[38;5;129;01min\u001b[39;00m scalars_or_arrays]\n",
      "File \u001b[0;32m~/.conda/envs/gchp/lib/python3.9/site-packages/xarray/core/pycompat.py:64\u001b[0m, in \u001b[0;36marray_type\u001b[0;34m(mod)\u001b[0m\n\u001b[1;32m     62\u001b[0m \u001b[38;5;28;01mdef\u001b[39;00m \u001b[38;5;21marray_type\u001b[39m(mod: ModType) \u001b[38;5;241m-\u001b[39m\u001b[38;5;241m>\u001b[39m DuckArrayTypes:\n\u001b[1;32m     63\u001b[0m \u001b[38;5;250m    \u001b[39m\u001b[38;5;124;03m\"\"\"Quick wrapper to get the array class of the module.\"\"\"\u001b[39;00m\n\u001b[0;32m---> 64\u001b[0m     \u001b[38;5;28;01mreturn\u001b[39;00m \u001b[43mDuckArrayModule\u001b[49m\u001b[43m(\u001b[49m\u001b[43mmod\u001b[49m\u001b[43m)\u001b[49m\u001b[38;5;241m.\u001b[39mtype\n",
      "File \u001b[0;32m~/.conda/envs/gchp/lib/python3.9/site-packages/xarray/core/pycompat.py:37\u001b[0m, in \u001b[0;36mDuckArrayModule.__init__\u001b[0;34m(self, mod)\u001b[0m\n\u001b[1;32m     35\u001b[0m duck_array_type: DuckArrayTypes\n\u001b[1;32m     36\u001b[0m \u001b[38;5;28;01mtry\u001b[39;00m:\n\u001b[0;32m---> 37\u001b[0m     duck_array_module \u001b[38;5;241m=\u001b[39m \u001b[43mimport_module\u001b[49m\u001b[43m(\u001b[49m\u001b[43mmod\u001b[49m\u001b[43m)\u001b[49m\n\u001b[1;32m     38\u001b[0m     duck_array_version \u001b[38;5;241m=\u001b[39m Version(duck_array_module\u001b[38;5;241m.\u001b[39m__version__)\n\u001b[1;32m     40\u001b[0m     \u001b[38;5;28;01mif\u001b[39;00m mod \u001b[38;5;241m==\u001b[39m \u001b[38;5;124m\"\u001b[39m\u001b[38;5;124mdask\u001b[39m\u001b[38;5;124m\"\u001b[39m:\n",
      "File \u001b[0;32m~/.conda/envs/gchp/lib/python3.9/importlib/__init__.py:127\u001b[0m, in \u001b[0;36mimport_module\u001b[0;34m(name, package)\u001b[0m\n\u001b[1;32m    125\u001b[0m             \u001b[38;5;28;01mbreak\u001b[39;00m\n\u001b[1;32m    126\u001b[0m         level \u001b[38;5;241m+\u001b[39m\u001b[38;5;241m=\u001b[39m \u001b[38;5;241m1\u001b[39m\n\u001b[0;32m--> 127\u001b[0m \u001b[38;5;28;01mreturn\u001b[39;00m \u001b[43m_bootstrap\u001b[49m\u001b[38;5;241;43m.\u001b[39;49m\u001b[43m_gcd_import\u001b[49m\u001b[43m(\u001b[49m\u001b[43mname\u001b[49m\u001b[43m[\u001b[49m\u001b[43mlevel\u001b[49m\u001b[43m:\u001b[49m\u001b[43m]\u001b[49m\u001b[43m,\u001b[49m\u001b[43m \u001b[49m\u001b[43mpackage\u001b[49m\u001b[43m,\u001b[49m\u001b[43m \u001b[49m\u001b[43mlevel\u001b[49m\u001b[43m)\u001b[49m\n",
      "File \u001b[0;32m<frozen importlib._bootstrap>:1030\u001b[0m, in \u001b[0;36m_gcd_import\u001b[0;34m(name, package, level)\u001b[0m\n",
      "File \u001b[0;32m<frozen importlib._bootstrap>:1007\u001b[0m, in \u001b[0;36m_find_and_load\u001b[0;34m(name, import_)\u001b[0m\n",
      "File \u001b[0;32m<frozen importlib._bootstrap>:986\u001b[0m, in \u001b[0;36m_find_and_load_unlocked\u001b[0;34m(name, import_)\u001b[0m\n",
      "File \u001b[0;32m<frozen importlib._bootstrap>:680\u001b[0m, in \u001b[0;36m_load_unlocked\u001b[0;34m(spec)\u001b[0m\n",
      "File \u001b[0;32m<frozen importlib._bootstrap_external>:850\u001b[0m, in \u001b[0;36mexec_module\u001b[0;34m(self, module)\u001b[0m\n",
      "File \u001b[0;32m<frozen importlib._bootstrap>:228\u001b[0m, in \u001b[0;36m_call_with_frames_removed\u001b[0;34m(f, *args, **kwds)\u001b[0m\n",
      "File \u001b[0;32m~/.conda/envs/gchp/lib/python3.9/site-packages/cupy/__init__.py:16\u001b[0m\n\u001b[1;32m     12\u001b[0m _environment\u001b[38;5;241m.\u001b[39m_preload_libraries()  \u001b[38;5;66;03m# NOQA\u001b[39;00m\n\u001b[1;32m     15\u001b[0m \u001b[38;5;28;01mtry\u001b[39;00m:\n\u001b[0;32m---> 16\u001b[0m     \u001b[38;5;28;01mfrom\u001b[39;00m \u001b[38;5;21;01mcupy\u001b[39;00m \u001b[38;5;28;01mimport\u001b[39;00m _core  \u001b[38;5;66;03m# NOQA\u001b[39;00m\n\u001b[1;32m     17\u001b[0m \u001b[38;5;28;01mexcept\u001b[39;00m \u001b[38;5;167;01mImportError\u001b[39;00m \u001b[38;5;28;01mas\u001b[39;00m e:\n\u001b[1;32m     18\u001b[0m     \u001b[38;5;66;03m# _core is a c-extension module.\u001b[39;00m\n\u001b[1;32m     19\u001b[0m     \u001b[38;5;66;03m# When a user cannot import _core, it represents that CuPy is not correctly\u001b[39;00m\n\u001b[1;32m     20\u001b[0m     \u001b[38;5;66;03m# built.\u001b[39;00m\n\u001b[1;32m     21\u001b[0m     _exc_info \u001b[38;5;241m=\u001b[39m _sys\u001b[38;5;241m.\u001b[39mexc_info()\n",
      "File \u001b[0;32m~/.conda/envs/gchp/lib/python3.9/site-packages/cupy/_core/__init__.py:1\u001b[0m\n\u001b[0;32m----> 1\u001b[0m \u001b[38;5;28;01mfrom\u001b[39;00m \u001b[38;5;21;01mcupy\u001b[39;00m\u001b[38;5;21;01m.\u001b[39;00m\u001b[38;5;21;01m_core\u001b[39;00m \u001b[38;5;28;01mimport\u001b[39;00m core  \u001b[38;5;66;03m# NOQA\u001b[39;00m\n\u001b[1;32m      2\u001b[0m \u001b[38;5;28;01mfrom\u001b[39;00m \u001b[38;5;21;01mcupy\u001b[39;00m\u001b[38;5;21;01m.\u001b[39;00m\u001b[38;5;21;01m_core\u001b[39;00m \u001b[38;5;28;01mimport\u001b[39;00m fusion  \u001b[38;5;66;03m# NOQA\u001b[39;00m\n\u001b[1;32m      3\u001b[0m \u001b[38;5;28;01mfrom\u001b[39;00m \u001b[38;5;21;01mcupy\u001b[39;00m\u001b[38;5;21;01m.\u001b[39;00m\u001b[38;5;21;01m_core\u001b[39;00m \u001b[38;5;28;01mimport\u001b[39;00m internal  \u001b[38;5;66;03m# NOQA\u001b[39;00m\n",
      "File \u001b[0;32mcupy/_core/core.pyx:1\u001b[0m, in \u001b[0;36minit cupy._core.core\u001b[0;34m()\u001b[0m\n",
      "File \u001b[0;32m<frozen importlib._bootstrap>:1007\u001b[0m, in \u001b[0;36m_find_and_load\u001b[0;34m(name, import_)\u001b[0m\n",
      "File \u001b[0;32m<frozen importlib._bootstrap>:986\u001b[0m, in \u001b[0;36m_find_and_load_unlocked\u001b[0;34m(name, import_)\u001b[0m\n",
      "File \u001b[0;32m<frozen importlib._bootstrap>:680\u001b[0m, in \u001b[0;36m_load_unlocked\u001b[0;34m(spec)\u001b[0m\n",
      "File \u001b[0;32m<frozen importlib._bootstrap_external>:846\u001b[0m, in \u001b[0;36mexec_module\u001b[0;34m(self, module)\u001b[0m\n",
      "File \u001b[0;32m<frozen importlib._bootstrap_external>:941\u001b[0m, in \u001b[0;36mget_code\u001b[0;34m(self, fullname)\u001b[0m\n",
      "File \u001b[0;32m<frozen importlib._bootstrap_external>:1039\u001b[0m, in \u001b[0;36mget_data\u001b[0;34m(self, path)\u001b[0m\n",
      "\u001b[0;31mKeyboardInterrupt\u001b[0m: "
     ]
    }
   ],
   "source": [
    "model_set = ERFutils.model_test_set\n",
    "\n",
    "test_climate2 = {}\n",
    "for m in model_set:\n",
    "    print(f'Getting climatology for {m}')\n",
    "    test_climate2[m] = ERFutils.calc_climatology(m,'tas')\n",
    "    break"
   ]
  },
  {
   "cell_type": "code",
   "execution_count": null,
   "id": "d0d3473a-82f8-4ab5-a6dd-8147a12fa792",
   "metadata": {
    "tags": []
   },
   "outputs": [],
   "source": [
    "test_climate, test_climate_rem = {}, {}\n",
    "for m in model_set:\n",
    "    print(f'Getting climatology for {m}')\n",
    "    test_climate_rem[m] = ERFutils.remove_climatology('1pctCO2',m,'tas')\n",
    "    break"
   ]
  },
  {
   "cell_type": "code",
   "execution_count": null,
   "id": "e61d5f67-33a9-46e4-bc52-775dd927865f",
   "metadata": {
    "tags": []
   },
   "outputs": [],
   "source": [
    "#test_climate_rem[m]\n",
    "A = ERFutils.A\n",
    "ds_out = ERFutils.ds_out\n",
    "test_climate_rem[m] = ERFutils.regrid_cmip(test_climate_rem[m],ds_out)\n",
    "test_climate_rem[m] = test_climate_rem[m].weighted(A).mean(dim = ['lat','lon'])"
   ]
  },
  {
   "cell_type": "code",
   "execution_count": null,
   "id": "e0d81e21-8060-4453-8ccc-9411c605e38f",
   "metadata": {
    "tags": []
   },
   "outputs": [],
   "source": [
    "plt.plot(test_climate_rem[m].tas)"
   ]
  },
  {
   "cell_type": "code",
   "execution_count": null,
   "id": "c6ea03ee-6883-491f-8c65-c1c5aae9b3f1",
   "metadata": {
    "tags": []
   },
   "outputs": [],
   "source": [
    "# Get temperature response as difference between training and control runs\n",
    "train_id = '1pctCO2'\n",
    "temp_response = ERFutils.remove_climatology(train_id, m, 'tas')\n",
    "temp_response = ERFutils.regrid_cmip(temp_response,ds_out)\n",
    "global_temp = temp_response.weighted(A).mean(dim = ['lat','lon']).tas.values\n",
    "\n",
    "# Have to create the patterns locally, stack data array\n",
    "stacked_response = temp_response.stack(allpoints=['lat','lon'])\n",
    "N_latlong = len(stacked_response['allpoints'].values)\n",
    "\n",
    "# Convert to np arrays, xarray indexing is too slow\n",
    "pattern_stacked = np.zeros((1,N_latlong))\n",
    "stacked_response_np = stacked_response.tas.values"
   ]
  },
  {
   "cell_type": "code",
   "execution_count": null,
   "id": "03c6fa2a-769f-4d25-94fb-d52540a6897e",
   "metadata": {
    "tags": []
   },
   "outputs": [],
   "source": [
    "from sklearn.linear_model import LinearRegression\n",
    "# Calculate local patterns\n",
    "for i in range(N_latlong):\n",
    "    stacked_response_local = stacked_response_np[:,i]\n",
    "    model = LinearRegression().fit(global_temp.reshape(-1,1), stacked_response_local.reshape(-1,1))\n",
    "    pattern_stacked[0,i] = model.coef_[0][0]\n"
   ]
  },
  {
   "cell_type": "code",
   "execution_count": null,
   "id": "b3fe3225-0f6a-4f0f-8dad-ea282ee3e587",
   "metadata": {
    "tags": []
   },
   "outputs": [],
   "source": [
    "lat = stacked_response['lat'].values\n",
    "lon = stacked_response['lon'].values\n",
    "allpoints = stacked_response['allpoints'].values\n",
    "\n",
    "me = xr.DataArray(pattern_stacked[0], coords={'lat': lat, 'lon': lon, \n",
    "                                'allpoints': allpoints},\n",
    "             dims=['allpoints'])"
   ]
  },
  {
   "cell_type": "code",
   "execution_count": null,
   "id": "860502a2-f017-415a-b992-6819c23b26c0",
   "metadata": {},
   "outputs": [],
   "source": [
    "# Get pattern into the correct format\n",
    "stacked_response.values = pattern_stacked\n",
    "pattern = stacked_response.unstack('allpoints')\n",
    "pattern.attrs = ds_train.attrs\n",
    "\n",
    "pattern['year'] = pattern['year'] - pattern['year'][0]\n",
    "        \n",
    "pattern"
   ]
  },
  {
   "cell_type": "code",
   "execution_count": null,
   "id": "81746231-7e85-4782-834d-3529a7b71a66",
   "metadata": {},
   "outputs": [],
   "source": [
    "cmap = mpl.cm.RdBu_r\n",
    "levels = np.linspace(-5,5,num = 2*10 + 1)\n",
    "vmin = -2\n",
    "vmax = 2\n",
    "fig, ax= plt.subplots(figsize = [10,6], subplot_kw = {'projection':ccrs.PlateCarree()}, constrained_layout = True)\n",
    "\n",
    "ds_dif = ds_dif.mean(dim = 'model')\n",
    "\n",
    "# Contours of difference\n",
    "conv_ds.mean(dim = 'train_id').sel(s = slice(plot_yr-yr_dif, plot_yr+yr_dif)).mean(dim = 's').plot(ax = ax, \n",
    "                                                                                                          cmap = mpl.cm.Reds, extend = 'both', \n",
    "                                                                                                          add_colorbar = True,     \n",
    "                                                                                                          transform = ccrs.PlateCarree(),\n",
    "                                                                                                          cbar_kwargs = {'label':r'$\\Delta \\overline{T}$ ($\\degree$C)'})\n",
    "\n",
    "ax.coastlines()"
   ]
  }
 ],
 "metadata": {
  "kernelspec": {
   "display_name": "gchp",
   "language": "python",
   "name": "gchp"
  },
  "language_info": {
   "codemirror_mode": {
    "name": "ipython",
    "version": 3
   },
   "file_extension": ".py",
   "mimetype": "text/x-python",
   "name": "python",
   "nbconvert_exporter": "python",
   "pygments_lexer": "ipython3",
   "version": "3.9.18"
  }
 },
 "nbformat": 4,
 "nbformat_minor": 5
}
